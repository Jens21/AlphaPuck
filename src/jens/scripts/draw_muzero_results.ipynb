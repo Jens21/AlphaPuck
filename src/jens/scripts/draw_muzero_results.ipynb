{
 "cells": [
  {
   "cell_type": "code",
   "execution_count": 1,
   "id": "e922a97f-b89b-48d8-9ada-ed7c9adcb420",
   "metadata": {},
   "outputs": [],
   "source": [
    "import matplotlib.pyplot as plt\n",
    "import numpy as np\n",
    "\n",
    "from typing import Dict\n",
    "\n",
    "import matplotlib.pyplot as plt\n",
    "import numpy as np\n",
    "import pandas as pd\n",
    "from tueplots import bundles, figsizes"
   ]
  },
  {
   "cell_type": "code",
   "execution_count": 2,
   "id": "7aae4c58-932d-4151-9a75-86c19e1d66ab",
   "metadata": {},
   "outputs": [
    {
     "name": "stdout",
     "output_type": "stream",
     "text": [
      "Weak is ok: True\n",
      "Strong is ok: True\n",
      "[100 100 100 100 100 100 100 100 100 100 100 100 100 100 100 100 100 100\n",
      " 100 100 100 100 100 100 100 100 100 100 100 100]\n"
     ]
    }
   ],
   "source": [
    "x = np.array([2_500,5_000,10_000,15_000,20_000,25_000,30_000,35_000,60_000,110_000,160_000,210_000,260_000,310_000,360_000,410_000,460_000,510_000,560_000,610_000,660_000,710_000,760_000,810_000,860_000,910_000,960_000,1_010_000, 1_060_000, 1_100_000])\n",
    "\n",
    "won_weak = np.array([13,16,35,34,78,89,94,95, 94,95,  99,85,98, 98,98,99, 95,96,98, 98,93,98,  99,97,96,  96,99,99,96,98])\n",
    "draw_weak = np.array([24,12,19,64,21,11,5,4, 4,5,   1,14,2,   2,0,1,    3,4,1,    2,5,2,     1,0,4,     1,1,1,3,1])\n",
    "defeat_weak = np.array([63,72,46,2,1,0,1,1,2,0, 0,1,0,    0,2,0,    2,0,1,    0,2,0,     0,3,0,     3,0,0,1,1])\n",
    "print('Weak is ok: {}'.format(((won_weak+draw_weak+defeat_weak)==100).all()))\n",
    "win_rate_weak = (won_weak + 0.5 * draw_weak) / 100\n",
    "\n",
    "# win_rate_strong = win_rate_weak\n",
    "won_strong = np.array([21,24,48,38, 76,93 ,95,94,       95,100,97, 93,99, 97,97,100, 97,95,95, 99,97,99,99,99,100,98,99,100,99,97])\n",
    "draw_strong = np.array([33,12,29,58, 24,7, 4,2,         3,0,3,     7,1,3,2,0,     1,5,3,    0,3,1,0,1,     0,2,1,    0,1,2])\n",
    "defeat_strong = np.array([46,64,23,4, 0,0,  1,4,        2,0,0,0,     0,0,1,0,     2,0,2,    1,0,0,1,0,     0,0,0,    0,0,1])\n",
    "print('Strong is ok: {}'.format(((won_strong+draw_strong+defeat_strong)==100).all()))\n",
    "print(won_strong+draw_strong+defeat_strong)\n",
    "win_rate_strong = (won_strong + 0.5 * draw_strong) / 100\n",
    "\n",
    "df = pd.DataFrame({'Step':x,'Weak':win_rate_weak,'Strong':win_rate_strong})"
   ]
  },
  {
   "cell_type": "code",
   "execution_count": 3,
   "id": "7f5b75a0-0c9e-4a16-b177-ffa94698d8dd",
   "metadata": {},
   "outputs": [
    {
     "data": {
      "image/png": "[encoded data removed]",
      "text/plain": [
       "<Figure size 275x193.959 with 1 Axes>"
      ]
     },
     "metadata": {},
     "output_type": "display_data"
    },
    {
     "data": {
      "text/plain": [
       "<Figure size 275x193.959 with 0 Axes>"
      ]
     },
     "metadata": {},
     "output_type": "display_data"
    }
   ],
   "source": [
    "Y_OFFSET = 0.3\n",
    "plt.rcParams.update(bundles.iclr2023())\n",
    "figsize = figsizes.iclr2023(rel_width=0.5, nrows=1, ncols=1, tight_layout=True)\n",
    "figsize[\"figure.figsize\"] = (\n",
    "    figsize[\"figure.figsize\"][0],\n",
    "    figsize[\"figure.figsize\"][1] + 0.8 * Y_OFFSET,\n",
    ")\n",
    "plt.rcParams.update(figsize)\n",
    "\n",
    "def plot() -> None:\n",
    "    fig, axes = plt.subplots(nrows=1, ncols=1)\n",
    "\n",
    "    df.plot(x=\"Step\", y=[\"Weak\", \"Strong\"], ax=axes)\n",
    "    axes.set_xlabel(\"Training step\")\n",
    "    axes.set_ylabel(\"Winning percentage\")\n",
    "    axes.set_ylim(0.0, 1.0)\n",
    "    axes.legend(loc=\"lower right\")\n",
    "    axes.set_xscale('log')\n",
    "\n",
    "    plt.tight_layout()\n",
    "    plt.vlines([1_025_000], 0, 1, linestyle='dashed', colors='black', linewidth=0.75)\n",
    "    plt.subplots_adjust(hspace=fig.subplotpars.hspace + Y_OFFSET)\n",
    "    plt.savefig(\"muzero_results.pdf\")\n",
    "    plt.show()\n",
    "    plt.clf()\n",
    "\n",
    "def main() -> None:\n",
    "    plot()\n",
    "\n",
    "if __name__ == \"__main__\":\n",
    "    main()"
   ]
  }
 ],
 "metadata": {
  "kernelspec": {
   "display_name": "Python 3 (ipykernel)",
   "language": "python",
   "name": "python3"
  },
  "language_info": {
   "codemirror_mode": {
    "name": "ipython",
    "version": 3
   },
   "file_extension": ".py",
   "mimetype": "text/x-python",
   "name": "python",
   "nbconvert_exporter": "python",
   "pygments_lexer": "ipython3",
   "version": "3.11.3"
  }
 },
 "nbformat": 4,
 "nbformat_minor": 5
}
